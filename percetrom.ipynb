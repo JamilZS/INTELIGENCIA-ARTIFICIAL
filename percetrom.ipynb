{
  "nbformat": 4,
  "nbformat_minor": 0,
  "metadata": {
    "colab": {
      "provenance": []
    },
    "kernelspec": {
      "name": "python3",
      "display_name": "Python 3"
    },
    "language_info": {
      "name": "python"
    }
  },
  "cells": [
    {
      "cell_type": "code",
      "execution_count": 1,
      "metadata": {
        "colab": {
          "base_uri": "https://localhost:8080/"
        },
        "id": "WHHyZSIjOVEx",
        "outputId": "bd8f945f-16c5-4c09-aeea-0be2d6138746"
      },
      "outputs": [
        {
          "output_type": "stream",
          "name": "stdout",
          "text": [
            "Convergencia alcanzada en la época 14\n",
            "Pesos finales: [0.237538   0.13177042]\n",
            "Umbral final: 0.2703659837515618\n",
            "Entrada: [0 0] - Salida: 0\n",
            "Entrada: [0 1] - Salida: 0\n",
            "Entrada: [1 0] - Salida: 0\n",
            "Entrada: [1 1] - Salida: 1\n"
          ]
        }
      ],
      "source": [
        "import numpy as np\n",
        "\n",
        "# Función de activación (escalón)\n",
        "def activation_function(x):\n",
        "    return 1 if x >= 0 else 0\n",
        "\n",
        "# Algoritmo de entrenamiento del perceptrón\n",
        "def train_perceptron(X, D, learning_rate, epochs):\n",
        "    # Inicializar los pesos y el umbral en valores pequeños aleatorios\n",
        "    weights = np.random.uniform(-1, 1, X.shape[1])\n",
        "    threshold = np.random.uniform(-1, 1)\n",
        "\n",
        "    for epoch in range(epochs):\n",
        "        total_error = 0\n",
        "        for i in range(len(X)):\n",
        "            # Paso 3: Calcular la salida y\n",
        "            net_input = np.dot(X[i], weights) - threshold\n",
        "            y = activation_function(net_input)\n",
        "\n",
        "            # Paso 4: Calcular el error\n",
        "            error = D[i] - y\n",
        "            total_error += abs(error)\n",
        "\n",
        "            # Paso 5: Retropropagación\n",
        "            weights += learning_rate * error * X[i]\n",
        "            threshold -= learning_rate * error  # Actualizar el umbral\n",
        "\n",
        "        # Salir si el error total es cero\n",
        "        if total_error == 0:\n",
        "            print(f\"Convergencia alcanzada en la época {epoch + 1}\")\n",
        "            break\n",
        "    return weights, threshold\n",
        "\n",
        "# Datos de entrenamiento (X) y salidas deseadas (D)\n",
        "# X debe ser una matriz donde cada fila es un vector de características\n",
        "# D debe ser un vector con las salidas deseadas correspondientes a cada fila de X\n",
        "X = np.array([\n",
        "    [0, 0],\n",
        "    [0, 1],\n",
        "    [1, 0],\n",
        "    [1, 1]\n",
        "])\n",
        "D = np.array([0, 0, 0, 1])  # AND gate\n",
        "\n",
        "# Parámetros de entrenamiento\n",
        "learning_rate = 0.1\n",
        "epochs = 100\n",
        "\n",
        "# Entrenar el perceptrón\n",
        "weights, threshold = train_perceptron(X, D, learning_rate, epochs)\n",
        "\n",
        "# Imprimir los pesos y el umbral finales\n",
        "print(\"Pesos finales:\", weights)\n",
        "print(\"Umbral final:\", threshold)\n",
        "\n",
        "# Probar el perceptrón\n",
        "def predict(X, weights, threshold):\n",
        "    net_input = np.dot(X, weights) - threshold\n",
        "    return activation_function(net_input)\n",
        "\n",
        "# Pruebas\n",
        "for x in X:\n",
        "    print(f\"Entrada: {x} - Salida: {predict(x, weights, threshold)}\")\n"
      ]
    }
  ]
}